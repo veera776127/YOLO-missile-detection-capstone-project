{
 "cells": [
  {
   "cell_type": "code",
   "execution_count": 3,
   "metadata": {},
   "outputs": [],
   "source": [
    "import os"
   ]
  },
  {
   "cell_type": "code",
   "execution_count": 4,
   "metadata": {},
   "outputs": [
    {
     "data": {
      "text/plain": [
       "'c:\\\\Users\\\\vishw\\\\Documents\\\\cap_project_tulasi\\\\YOLO-missile-detection-capstone-project\\\\research'"
      ]
     },
     "execution_count": 4,
     "metadata": {},
     "output_type": "execute_result"
    }
   ],
   "source": [
    "%pwd"
   ]
  },
  {
   "cell_type": "code",
   "execution_count": 5,
   "metadata": {},
   "outputs": [],
   "source": [
    "os.chdir(\"../\")"
   ]
  },
  {
   "cell_type": "code",
   "execution_count": 6,
   "metadata": {},
   "outputs": [],
   "source": [
    "from dataclasses import dataclass\n",
    "\n",
    "@dataclass\n",
    "class ModelValidationConfig:\n",
    "    weights_path: str\n"
   ]
  },
  {
   "cell_type": "code",
   "execution_count": 7,
   "metadata": {},
   "outputs": [],
   "source": [
    "from YOLOv8_objectdetection.constants.constants import CONFIG_FILE_PATH,PARAMS_FILE_PATH\n",
    "from YOLOv8_objectdetection.utils.common import read_yaml,create_directories"
   ]
  },
  {
   "cell_type": "code",
   "execution_count": 13,
   "metadata": {},
   "outputs": [],
   "source": [
    "class ConfigurationManager:\n",
    "    def __init__(\n",
    "        self,\n",
    "        config_filepath = CONFIG_FILE_PATH,\n",
    "        params_filepath = PARAMS_FILE_PATH):\n",
    "\n",
    "        self.config = read_yaml(config_filepath)\n",
    "        self.params = read_yaml(params_filepath)\n",
    "    \n",
    "    def get_model_validation_config(self) -> ModelValidationConfig:\n",
    "        config = self.config.model_validation\n",
    "\n",
    "        model_validation_config = ModelValidationConfig(weights_path=config.weights_path)\n",
    "\n",
    "        return model_validation_config"
   ]
  },
  {
   "cell_type": "code",
   "execution_count": 14,
   "metadata": {},
   "outputs": [],
   "source": [
    "import os\n",
    "from pathlib import Path\n",
    "from shutil import copy2\n",
    "from ultralytics import YOLO"
   ]
  },
  {
   "cell_type": "code",
   "execution_count": 15,
   "metadata": {},
   "outputs": [],
   "source": [
    "class ModelTrainedValidation:\n",
    "    def __init__(self, config:ModelValidationConfig):\n",
    "        self.best_weight_path = config.weights_path\n",
    "\n",
    "    def validate_model(self):\n",
    "        # Load the trained model\n",
    "        logger.info(f\"Loading the trained model from {self.best_weight_path}...\")\n",
    "        model = YOLO(self.best_weight_path)\n",
    "\n",
    "        # Validate the model\n",
    "        logger.info(\"Validating the model...\")\n",
    "        metrics = model.val()  # no arguments needed, dataset and settings remembered\n",
    "        \n",
    "        # Extract metrics\n",
    "        map50 = metrics.box.map50\n",
    "        map75 = metrics.box.map75\n",
    "        maps = metrics.box.maps\n",
    "        \n",
    "        logger.info(\"Validation completed.\")\n",
    "        logger.info(f\"Metrics Information:\")\n",
    "        logger.info(f\"mAP@50: {map50}\")\n",
    "        logger.info(f\"mAP@75: {map75}\")\n",
    "        logger.info(f\"mAPs: {maps}\")\n",
    "\n",
    "        return map50, map75, maps"
   ]
  },
  {
   "cell_type": "code",
   "execution_count": 17,
   "metadata": {},
   "outputs": [
    {
     "name": "stdout",
     "output_type": "stream",
     "text": [
      "[2024-02-25 22:04:21,732: INFO: common: yaml file: config\\config.yaml loaded successfully]\n",
      "[2024-02-25 22:04:21,734: INFO: common: yaml file: params.yaml loaded successfully]\n"
     ]
    },
    {
     "name": "stdout",
     "output_type": "stream",
     "text": [
      "Ultralytics YOLOv8.1.18 🚀 Python-3.12.1 torch-2.2.1+cpu CPU (AMD Ryzen 5 7640HS w/ Radeon 760M Graphics)\n",
      "Model summary (fused): 168 layers, 3005843 parameters, 0 gradients, 8.1 GFLOPs\n"
     ]
    },
    {
     "name": "stderr",
     "output_type": "stream",
     "text": [
      "\u001b[34m\u001b[1mval: \u001b[0mScanning C:\\Users\\vishw\\Documents\\cap_project_tulasi\\YOLO-missile-detection-capstone-project\\missile_data\\labels\\val.cache... 12 images, 0 backgrounds, 0 corrupt: 100%|██████████| 12/12 [00:00<?, ?it/s]\n",
      "                 Class     Images  Instances      Box(P          R      mAP50  mAP50-95): 100%|██████████| 1/1 [00:00<00:00,  1.16it/s]\n"
     ]
    },
    {
     "name": "stdout",
     "output_type": "stream",
     "text": [
      "                   all         12         24    0.00556      0.833      0.349      0.105\n",
      "Speed: 1.6ms preprocess, 61.1ms inference, 0.0ms loss, 4.0ms postprocess per image\n",
      "Results saved to \u001b[1mruns\\detect\\val5\u001b[0m\n"
     ]
    }
   ],
   "source": [
    "if __name__ == \"__main__\":  \n",
    "    config_manager = ConfigurationManager() \n",
    "    model_train_config = config_manager.get_model_validation_config()\n",
    "    trainer = ModelTrainedValidation(model_train_config)\n",
    "    trainer.validate_model()"
   ]
  },
  {
   "cell_type": "code",
   "execution_count": null,
   "metadata": {},
   "outputs": [],
   "source": []
  }
 ],
 "metadata": {
  "kernelspec": {
   "display_name": "capstone",
   "language": "python",
   "name": "python3"
  },
  "language_info": {
   "codemirror_mode": {
    "name": "ipython",
    "version": 3
   },
   "file_extension": ".py",
   "mimetype": "text/x-python",
   "name": "python",
   "nbconvert_exporter": "python",
   "pygments_lexer": "ipython3",
   "version": "3.12.1"
  }
 },
 "nbformat": 4,
 "nbformat_minor": 2
}
