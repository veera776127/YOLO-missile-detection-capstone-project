{
 "cells": [
  {
   "cell_type": "code",
   "execution_count": 1,
   "metadata": {},
   "outputs": [],
   "source": [
    "import os"
   ]
  },
  {
   "cell_type": "code",
   "execution_count": 2,
   "metadata": {},
   "outputs": [
    {
     "data": {
      "text/plain": [
       "'c:\\\\Users\\\\vishw\\\\Documents\\\\cap_project_tulasi\\\\YOLO-missile-detection-capstone-project\\\\research'"
      ]
     },
     "execution_count": 2,
     "metadata": {},
     "output_type": "execute_result"
    }
   ],
   "source": [
    "%pwd"
   ]
  },
  {
   "cell_type": "code",
   "execution_count": 3,
   "metadata": {},
   "outputs": [],
   "source": [
    "os.chdir(\"../\")"
   ]
  },
  {
   "cell_type": "code",
   "execution_count": 4,
   "metadata": {},
   "outputs": [
    {
     "data": {
      "text/plain": [
       "'c:\\\\Users\\\\vishw\\\\Documents\\\\cap_project_tulasi\\\\YOLO-missile-detection-capstone-project'"
      ]
     },
     "execution_count": 4,
     "metadata": {},
     "output_type": "execute_result"
    }
   ],
   "source": [
    "%pwd"
   ]
  },
  {
   "cell_type": "code",
   "execution_count": 29,
   "metadata": {},
   "outputs": [],
   "source": [
    "from dataclasses import dataclass\n",
    "\n",
    "@dataclass\n",
    "class LoadModelConfig:\n",
    "    root_dir: str\n",
    "    pretrained_weights_path: str\n",
    "    yaml_files_path: str"
   ]
  },
  {
   "cell_type": "code",
   "execution_count": 30,
   "metadata": {},
   "outputs": [],
   "source": [
    "from YOLOv8_objectdetection.constants.constants import CONFIG_FILE_PATH,PARAMS_FILE_PATH\n",
    "from YOLOv8_objectdetection.utils.common import read_yaml,create_directories"
   ]
  },
  {
   "cell_type": "code",
   "execution_count": 31,
   "metadata": {},
   "outputs": [],
   "source": [
    "class ConfigurationManager:\n",
    "    def __init__(\n",
    "        self,\n",
    "        config_filepath=CONFIG_FILE_PATH,\n",
    "        params_filepath=PARAMS_FILE_PATH):\n",
    "\n",
    "        self.config = read_yaml(config_filepath)\n",
    "        self.params = read_yaml(params_filepath)\n",
    "\n",
    "        # Ensure the root directory for artifacts exists\n",
    "        create_directories([self.config.artifacts_root])\n",
    "\n",
    "    def get_Load_model_config(self) -> LoadModelConfig:\n",
    "        print(\"Loaded configuration:\", self.config)  # Debug print\n",
    "        config = self.config['Load_model']\n",
    "        print(\"Load_model configuration:\", config)  # Debug print\n",
    "\n",
    "        create_directories([config.root_dir])\n",
    "        \n",
    "        Load_model_config = LoadModelConfig(root_dir=config.root_dir,\n",
    "                                            pretrained_weights_path=config.pretrained_weights_path,\n",
    "                                            yaml_files_path=config.yaml_files_path)\n",
    "\n",
    "        return Load_model_config\n",
    "\n",
    "    "
   ]
  },
  {
   "cell_type": "code",
   "execution_count": 54,
   "metadata": {},
   "outputs": [],
   "source": [
    "import os\n",
    "import torch\n",
    "from ultralytics import YOLO  # Assuming this is the correct import for your YOLO model\n",
    "\n",
    "class PrepareModel:\n",
    "    def __init__(self, model, config:LoadModelConfig):\n",
    "        self.config = config\n",
    "        self.model = model\n",
    "\n",
    "    def get_model(self):\n",
    "        # Load the model, assuming 'yolov8n.pt' is the correct model file\n",
    "        self.model = YOLO('yolov8n.pt')\n",
    "        print(\"Model loaded successfully.\")\n",
    "\n",
    "    def save_model(self):\n",
    "        model_path = self.config.pretrained_weights_path\n",
    "        # Ensure the directory for pretrained_weights_path exists\n",
    "        os.makedirs(os.path.dirname(model_path), exist_ok=True)\n",
    "        \n",
    "        # Check if the model file already exists\n",
    "        if os.path.exists(model_path):\n",
    "            print(f\"Model file already exists at {model_path}. No need to save again.\")\n",
    "        else:\n",
    "            # Save the model since it doesn't exist\n",
    "            torch.save(self.model.state_dict(), model_path)\n",
    "            print(f\"Model saved successfully at: {model_path}\")"
   ]
  },
  {
   "cell_type": "code",
   "execution_count": 55,
   "metadata": {},
   "outputs": [
    {
     "name": "stdout",
     "output_type": "stream",
     "text": [
      "[2024-02-24 21:52:18,918: INFO: common: yaml file: config\\config.yaml loaded successfully]\n",
      "[2024-02-24 21:52:18,920: INFO: common: yaml file: params.yaml loaded successfully]\n",
      "[2024-02-24 21:52:18,921: INFO: common: created directory at: artifacts]\n",
      "Loaded configuration: {'artifacts_root': 'artifacts', 'data_ingestion': {'root_dir': 'artifacts/data_ingestion', 'local_data_file': 'artifacts/data_ingestion/missile_data.zip', 'unzip_dir': 'artifacts/data_ingestion', 's3_bucket_name': 'capstone-missile', 's3_object_key': 'missile_data.zip'}, 'Load_model': {'root_dir': 'artifacts/model_artifacts', 'pretrained_weights_path': 'artifacts/pretrained_weights/yolov8n.pt', 'yaml_files_path': 'artifacts/yaml_data_files'}}\n",
      "Load_model configuration: {'root_dir': 'artifacts/model_artifacts', 'pretrained_weights_path': 'artifacts/pretrained_weights/yolov8n.pt', 'yaml_files_path': 'artifacts/yaml_data_files'}\n",
      "[2024-02-24 21:52:18,923: INFO: common: created directory at: artifacts/model_artifacts]\n",
      "Model loaded successfully.\n",
      "Model file already exists at artifacts/pretrained_weights/yolov8n.pt. No need to save again.\n"
     ]
    }
   ],
   "source": [
    "# Example usage\n",
    "try:\n",
    "    config = ConfigurationManager()\n",
    "    Load_model_config = config.get_Load_model_config()\n",
    "    load_model = PrepareModel(model=None, config=Load_model_config)\n",
    "\n",
    "    load_model.get_model()\n",
    "    load_model.save_model()\n",
    "\n",
    "except Exception as e:\n",
    "    print(f\"An error occurred: {e}\")\n",
    "    raise e"
   ]
  },
  {
   "cell_type": "code",
   "execution_count": null,
   "metadata": {},
   "outputs": [],
   "source": []
  }
 ],
 "metadata": {
  "kernelspec": {
   "display_name": "capstone",
   "language": "python",
   "name": "python3"
  },
  "language_info": {
   "codemirror_mode": {
    "name": "ipython",
    "version": 3
   },
   "file_extension": ".py",
   "mimetype": "text/x-python",
   "name": "python",
   "nbconvert_exporter": "python",
   "pygments_lexer": "ipython3",
   "version": "3.12.1"
  }
 },
 "nbformat": 4,
 "nbformat_minor": 2
}
