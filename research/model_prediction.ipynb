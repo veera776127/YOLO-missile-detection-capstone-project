{
 "cells": [
  {
   "cell_type": "code",
   "execution_count": 2,
   "metadata": {},
   "outputs": [],
   "source": [
    "import os"
   ]
  },
  {
   "cell_type": "code",
   "execution_count": 3,
   "metadata": {},
   "outputs": [
    {
     "data": {
      "text/plain": [
       "'c:\\\\Users\\\\vishw\\\\Documents\\\\cap_project_tulasi\\\\YOLO-missile-detection-capstone-project\\\\research'"
      ]
     },
     "execution_count": 3,
     "metadata": {},
     "output_type": "execute_result"
    }
   ],
   "source": [
    "%pwd"
   ]
  },
  {
   "cell_type": "code",
   "execution_count": 4,
   "metadata": {},
   "outputs": [],
   "source": [
    "os.chdir('../')"
   ]
  },
  {
   "cell_type": "code",
   "execution_count": 5,
   "metadata": {},
   "outputs": [
    {
     "data": {
      "text/plain": [
       "'c:\\\\Users\\\\vishw\\\\Documents\\\\cap_project_tulasi\\\\YOLO-missile-detection-capstone-project'"
      ]
     },
     "execution_count": 5,
     "metadata": {},
     "output_type": "execute_result"
    }
   ],
   "source": [
    "%pwd"
   ]
  },
  {
   "cell_type": "code",
   "execution_count": 10,
   "metadata": {},
   "outputs": [],
   "source": [
    "from dataclasses import dataclass\n",
    "\n",
    "@dataclass\n",
    "class ModelPredictionConfig:\n",
    "  trained_weights_path: str\n",
    "  test_images_path: str\n",
    "  results_path: str\n",
    "  confidence_threshold: float \n"
   ]
  },
  {
   "cell_type": "code",
   "execution_count": 11,
   "metadata": {},
   "outputs": [],
   "source": [
    "from dataclasses import dataclass\n",
    "from YOLOv8_objectdetection.constants.constants import CONFIG_FILE_PATH, PARAMS_FILE_PATH\n",
    "from YOLOv8_objectdetection.utils.common import read_yaml, create_directories\n",
    "from YOLOv8_objectdetection import logger"
   ]
  },
  {
   "cell_type": "code",
   "execution_count": 12,
   "metadata": {},
   "outputs": [],
   "source": [
    "class ConfigurationManager:\n",
    "    def __init__(self):\n",
    "        self.config = read_yaml(CONFIG_FILE_PATH)\n",
    "        self.params = read_yaml(PARAMS_FILE_PATH)\n",
    "\n",
    "    def get_model_prediction_config(self):\n",
    "        # Assuming your params.yaml structure and keys, with added handling for missing keys\n",
    "        confidence_threshold = self.params.get('prediction_params', {}).get('confidence_threshold', 0.25)  # Provide default value\n",
    "        \n",
    "        # Assuming 'model_prediction' is correctly loaded from your config\n",
    "        config = self.config['model_prediction']\n",
    "\n",
    "        return ModelPredictionConfig(\n",
    "            trained_weights_path=config.get('trained_weights_path'),\n",
    "            test_images_path=config.get('test_images_path'),\n",
    "            results_path=config.get('results_path'),\n",
    "            confidence_threshold=confidence_threshold,\n",
    "        )\n"
   ]
  },
  {
   "cell_type": "code",
   "execution_count": 13,
   "metadata": {},
   "outputs": [
    {
     "name": "stdout",
     "output_type": "stream",
     "text": [
      "[2024-02-27 15:09:14,837: INFO: common: yaml file: config\\config.yaml loaded successfully]\n",
      "[2024-02-27 15:09:14,841: INFO: common: yaml file: params.yaml loaded successfully]\n",
      "[2024-02-27 15:09:14,842: INFO: common: created directory at: test/test_results]\n",
      "\n",
      "0: 640x640 (no detections), 1: 640x640 (no detections), 2: 640x640 1 Missile, 3: 640x640 4 Missiles, 431.9ms\n",
      "Speed: 5.2ms preprocess, 108.0ms inference, 0.7ms postprocess per image at shape (1, 3, 640, 640)\n",
      "Result saved to test/test_results\\car_test_image_result.jpg\n",
      "Result saved to test/test_results\\test_image_02_result.jpg\n",
      "Result saved to test/test_results\\test_image_03_result.jpg\n",
      "Result saved to test/test_results\\test_image_1_result.jpg\n"
     ]
    }
   ],
   "source": [
    "from dataclasses import dataclass\n",
    "from YOLOv8_objectdetection.constants.constants import CONFIG_FILE_PATH, PARAMS_FILE_PATH\n",
    "from YOLOv8_objectdetection.utils.common import read_yaml, create_directories\n",
    "from YOLOv8_objectdetection import logger\n",
    "from pathlib import Path\n",
    "from ultralytics import YOLO\n",
    "import os\n",
    "\n",
    "class YOLOInference:\n",
    "    def __init__(self, config: ModelPredictionConfig):\n",
    "        self.config = config\n",
    "        self.model = YOLO(self.config.trained_weights_path)\n",
    "        # Assume default confidence threshold if not specified in params\n",
    "        self.confidence_threshold = self.config.confidence_threshold\n",
    "\n",
    "    def run_inference(self):\n",
    "        # Ensure test_images_path directory exists\n",
    "        assert os.path.isdir(self.config.test_images_path), f\"Directory does not exist: {self.config.test_images_path}\"\n",
    "        \n",
    "        # Collect image file paths\n",
    "        image_paths = [os.path.join(self.config.test_images_path, image_file) for image_file in os.listdir(self.config.test_images_path) if image_file.endswith(('.jpg', '.png', '.jpeg'))]  # Ensure these are files\n",
    "        \n",
    "        # Ensure results_path directory exists or create it\n",
    "        Path(self.config.results_path).mkdir(parents=True, exist_ok=True)\n",
    "        \n",
    "        results = self.model(image_paths, conf=self.confidence_threshold)  # Assuming this correctly handles a list of image file paths\n",
    "        \n",
    "        for idx, result in enumerate(results):\n",
    "            original_filename = os.path.basename(image_paths[idx])\n",
    "            result_filename = f\"{original_filename.rsplit('.', 1)[0]}_result.jpg\"\n",
    "            result_path = os.path.join(self.config.results_path, result_filename)\n",
    "            \n",
    "            # Assuming result has a method to save to a file path\n",
    "            result.save(result_path)\n",
    "            print(f\"Result saved to {result_path}\")\n",
    "\n",
    "if __name__ == \"__main__\":\n",
    "    config_manager = ConfigurationManager()\n",
    "    model_prediction_config = config_manager.get_model_prediction_config()\n",
    "\n",
    "    # Make sure directories exist or are created\n",
    "    create_directories([model_prediction_config.results_path])\n",
    "\n",
    "    inference = YOLOInference(model_prediction_config)\n",
    "    inference.run_inference()\n",
    "\n"
   ]
  },
  {
   "cell_type": "code",
   "execution_count": null,
   "metadata": {},
   "outputs": [],
   "source": []
  }
 ],
 "metadata": {
  "kernelspec": {
   "display_name": "capstone",
   "language": "python",
   "name": "python3"
  },
  "language_info": {
   "codemirror_mode": {
    "name": "ipython",
    "version": 3
   },
   "file_extension": ".py",
   "mimetype": "text/x-python",
   "name": "python",
   "nbconvert_exporter": "python",
   "pygments_lexer": "ipython3",
   "version": "3.12.1"
  }
 },
 "nbformat": 4,
 "nbformat_minor": 2
}
